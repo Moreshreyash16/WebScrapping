{
 "cells": [
  {
   "cell_type": "markdown",
   "metadata": {},
   "source": [
    "<h3>Importing The Necessary Libraries"
   ]
  },
  {
   "cell_type": "code",
   "execution_count": 6,
   "metadata": {},
   "outputs": [],
   "source": [
    "from selenium import webdriver\n",
    "from selenium.webdriver.support import expected_conditions as EC\n",
    "from selenium.webdriver.support.ui import WebDriverWait\n",
    "from selenium.webdriver.common.by import By\n",
    "from selenium.webdriver.common.keys import Keys\n",
    "import pandas as pd\n",
    "import time\n",
    "import csv"
   ]
  },
  {
   "cell_type": "markdown",
   "metadata": {},
   "source": [
    "Getting the chrome driver for automation"
   ]
  },
  {
   "cell_type": "code",
   "execution_count": 7,
   "metadata": {},
   "outputs": [],
   "source": [
    "driver=webdriver.Chrome()"
   ]
  },
  {
   "cell_type": "markdown",
   "metadata": {},
   "source": [
    "Getting the Website"
   ]
  },
  {
   "cell_type": "code",
   "execution_count": 8,
   "metadata": {},
   "outputs": [],
   "source": [
    "driver.get(\"https://collegedunia.com/india-colleges?custom_params=%5Bview%3Atable%5D\")"
   ]
  },
  {
   "cell_type": "code",
   "execution_count": 9,
   "metadata": {},
   "outputs": [
    {
     "name": "stdout",
     "output_type": "stream",
     "text": [
      "Top Colleges in India - 2023 Rankings, Fees, Placements - Collegedunia\n"
     ]
    }
   ],
   "source": [
    "# printing the title\n",
    "print(driver.title)"
   ]
  },
  {
   "cell_type": "markdown",
   "metadata": {},
   "source": [
    "<h3> Scraping Code"
   ]
  },
  {
   "cell_type": "code",
   "execution_count": null,
   "metadata": {},
   "outputs": [],
   "source": [
    "start =time.time()\n",
    "count=0\n",
    "college=[]\n",
    "target_scroll = 'jsx-2796823646.jsx-1342907234.endOfContainer'\n",
    "with open('college.csv',mode='a',newline='',encoding='utf-8') as csv_file:\n",
    "    csv_writer=csv.writer(csv_file)\n",
    "    csv_writer.writerow([\"Cd_Rank\",\"college_name\",\"fees\", \"placement\", \"review\", \"rank\"])\n",
    "    \n",
    "    while True:\n",
    "        driver.execute_script(\"window.scrollTo(0, document.body.scrollHeight);\")\n",
    "        driver.implicitly_wait(2)\n",
    "        count += 1\n",
    "\n",
    "        try:\n",
    "            # fetching all the rows in page\n",
    "            college_elements = driver.find_elements(By.TAG_NAME,'tr')\n",
    "    \n",
    "            for college_ele in college_elements:\n",
    "                # then for every element in the row extracting the table data\n",
    "                college_data = college_ele.find_elements(By.TAG_NAME,'td')\n",
    "            \n",
    "                # removing tha new line and replacing with space\n",
    "                row_data=[d.text.strip().replace(\"\\n\",\" \") for d in college_data]\n",
    "                row_data=[row for row in row_data if row]\n",
    "                # checking if data is there and the sr containg '#'\n",
    "                if row_data:\n",
    "                    if \"#\" in row_data[0]:\n",
    "                        csv_writer.writerow(row_data)\n",
    "            \n",
    "            # creating a break condition\n",
    "            if target_scroll in driver.page_source:\n",
    "                print(count)\n",
    "                break\n",
    "        \n",
    "        except Exception as e:\n",
    "            print(e)\n",
    "\n",
    "end = time.time()\n",
    "execution_time = end - start\n",
    "print(f\"Execution time: {execution_time} seconds\")\n",
    "\n",
    "\n"
   ]
  },
  {
   "cell_type": "code",
   "execution_count": null,
   "metadata": {},
   "outputs": [],
   "source": [
    "driver.quit()"
   ]
  },
  {
   "cell_type": "markdown",
   "metadata": {},
   "source": [
    "<h3> Uploading data to hdfs using pyspark"
   ]
  },
  {
   "cell_type": "code",
   "execution_count": null,
   "metadata": {},
   "outputs": [],
   "source": [
    "from pyspark.sql import SparkSession\n",
    "import os"
   ]
  },
  {
   "cell_type": "markdown",
   "metadata": {},
   "source": [
    "setting ip address"
   ]
  },
  {
   "cell_type": "code",
   "execution_count": null,
   "metadata": {},
   "outputs": [],
   "source": [
    "os.environ[\"SPARK_IP\"]=\"10.0.2.15\""
   ]
  },
  {
   "cell_type": "code",
   "execution_count": null,
   "metadata": {},
   "outputs": [],
   "source": [
    "spark=SparkSession.builder.appName(\"webscraping\").getOrCreate()"
   ]
  },
  {
   "cell_type": "code",
   "execution_count": null,
   "metadata": {},
   "outputs": [
    {
     "name": "stderr",
     "output_type": "stream",
     "text": [
      "                                                                                \r"
     ]
    }
   ],
   "source": [
    "try:\n",
    "    df=spark.read.csv(\"/home/hdoop/Downloads/college_dunia.csv\",inferSchema=True,header=True)\n",
    "    new_df=df.dropDuplicates()\n",
    "    new_df.write.format(\"csv\").save('hdfs://localhost:9000/web_scraper/scrapped_data.csv',header=True,inferschema=True)\n",
    "except Exception as e:\n",
    "    print(e)"
   ]
  }
 ],
 "metadata": {
  "kernelspec": {
   "display_name": "Python 3",
   "language": "python",
   "name": "python3"
  },
  "language_info": {
   "codemirror_mode": {
    "name": "ipython",
    "version": 3
   },
   "file_extension": ".py",
   "mimetype": "text/x-python",
   "name": "python",
   "nbconvert_exporter": "python",
   "pygments_lexer": "ipython3",
   "version": "3.10.7"
  },
  "orig_nbformat": 4
 },
 "nbformat": 4,
 "nbformat_minor": 2
}
